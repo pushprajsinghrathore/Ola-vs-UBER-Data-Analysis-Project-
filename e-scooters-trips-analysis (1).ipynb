{
 "cells": [
  {
   "cell_type": "markdown",
   "id": "6ffbef9d",
   "metadata": {
    "papermill": {
     "duration": 0.039353,
     "end_time": "2022-04-13T08:54:29.361872",
     "exception": false,
     "start_time": "2022-04-13T08:54:29.322519",
     "status": "completed"
    },
    "tags": []
   },
   "source": [
    "### Import Libraries"
   ]
  },
  {
   "cell_type": "code",
   "execution_count": 1,
   "id": "5c3ca25e",
   "metadata": {
    "execution": {
     "iopub.execute_input": "2022-04-13T08:54:29.436425Z",
     "iopub.status.busy": "2022-04-13T08:54:29.435202Z",
     "iopub.status.idle": "2022-04-13T08:54:31.213756Z",
     "shell.execute_reply": "2022-04-13T08:54:31.212889Z",
     "shell.execute_reply.started": "2022-04-13T08:52:53.027095Z"
    },
    "papermill": {
     "duration": 1.815638,
     "end_time": "2022-04-13T08:54:31.213964",
     "exception": false,
     "start_time": "2022-04-13T08:54:29.398326",
     "status": "completed"
    },
    "tags": []
   },
   "outputs": [],
   "source": [
    "import warnings\n",
    "warnings.filterwarnings(\"ignore\")\n",
    "import pandas as pd\n",
    "import matplotlib.pyplot as plt\n",
    "import seaborn as sns\n",
    "import datetime as dt\n",
    "# import geopandas as gdp\n",
    "# import keplergl\n",
    "# from shapely.geometry import Polygon\n",
    "from folium import plugins\n",
    "import folium"
   ]
  },
  {
   "cell_type": "code",
   "execution_count": 2,
   "id": "faa5dc75",
   "metadata": {
    "execution": {
     "iopub.execute_input": "2022-04-13T08:54:31.286228Z",
     "iopub.status.busy": "2022-04-13T08:54:31.285451Z",
     "iopub.status.idle": "2022-04-13T08:54:31.286909Z",
     "shell.execute_reply": "2022-04-13T08:54:31.287445Z",
     "shell.execute_reply.started": "2022-04-13T08:52:54.608579Z"
    },
    "papermill": {
     "duration": 0.040514,
     "end_time": "2022-04-13T08:54:31.287662",
     "exception": false,
     "start_time": "2022-04-13T08:54:31.247148",
     "status": "completed"
    },
    "tags": []
   },
   "outputs": [],
   "source": [
    "sns.set_style(\"whitegrid\")"
   ]
  },
  {
   "cell_type": "markdown",
   "id": "ad0a55d2",
   "metadata": {
    "papermill": {
     "duration": 0.032433,
     "end_time": "2022-04-13T08:54:31.352903",
     "exception": false,
     "start_time": "2022-04-13T08:54:31.320470",
     "status": "completed"
    },
    "tags": []
   },
   "source": [
    "### Import Dataset"
   ]
  },
  {
   "cell_type": "code",
   "execution_count": 3,
   "id": "28b78c9c",
   "metadata": {
    "execution": {
     "iopub.execute_input": "2022-04-13T08:54:31.422022Z",
     "iopub.status.busy": "2022-04-13T08:54:31.421314Z",
     "iopub.status.idle": "2022-04-13T08:54:36.155276Z",
     "shell.execute_reply": "2022-04-13T08:54:36.155824Z",
     "shell.execute_reply.started": "2022-04-13T08:53:56.251981Z"
    },
    "papermill": {
     "duration": 4.770472,
     "end_time": "2022-04-13T08:54:36.156027",
     "exception": false,
     "start_time": "2022-04-13T08:54:31.385555",
     "status": "completed"
    },
    "tags": []
   },
   "outputs": [
    {
     "data": {
      "text/html": [
       "<div>\n",
       "<style scoped>\n",
       "    .dataframe tbody tr th:only-of-type {\n",
       "        vertical-align: middle;\n",
       "    }\n",
       "\n",
       "    .dataframe tbody tr th {\n",
       "        vertical-align: top;\n",
       "    }\n",
       "\n",
       "    .dataframe thead th {\n",
       "        text-align: right;\n",
       "    }\n",
       "</style>\n",
       "<table border=\"1\" class=\"dataframe\">\n",
       "  <thead>\n",
       "    <tr style=\"text-align: right;\">\n",
       "      <th></th>\n",
       "      <th>Trip ID</th>\n",
       "      <th>Start Time</th>\n",
       "      <th>End Time</th>\n",
       "      <th>Trip Distance</th>\n",
       "      <th>Trip Duration</th>\n",
       "      <th>Vendor</th>\n",
       "      <th>Start Community Area Number</th>\n",
       "      <th>End Community Area Number</th>\n",
       "      <th>Start Community Area Name</th>\n",
       "      <th>End Community Area Name</th>\n",
       "      <th>Start Centroid Latitude</th>\n",
       "      <th>Start Centroid Longitude</th>\n",
       "      <th>Start Centroid Location</th>\n",
       "      <th>End Centroid Latitude</th>\n",
       "      <th>End Centroid Longitude</th>\n",
       "      <th>End Centroid Location</th>\n",
       "    </tr>\n",
       "  </thead>\n",
       "  <tbody>\n",
       "    <tr>\n",
       "      <th>0</th>\n",
       "      <td>3eb9a2a3-3266-4559-b1ec-e83a6f7972ab</td>\n",
       "      <td>08/12/2020 05:00:00 AM</td>\n",
       "      <td>08/12/2020 05:00:00 AM</td>\n",
       "      <td>1,153</td>\n",
       "      <td>1,027</td>\n",
       "      <td>spin</td>\n",
       "      <td>68.0</td>\n",
       "      <td>68.0</td>\n",
       "      <td>ENGLEWOOD</td>\n",
       "      <td>ENGLEWOOD</td>\n",
       "      <td>41.780068</td>\n",
       "      <td>-87.642266</td>\n",
       "      <td>POINT (-87.64226608 41.78006847)</td>\n",
       "      <td>41.780068</td>\n",
       "      <td>-87.642266</td>\n",
       "      <td>POINT (-87.64226608 41.78006847)</td>\n",
       "    </tr>\n",
       "    <tr>\n",
       "      <th>1</th>\n",
       "      <td>82dd7b8f-8de0-4f25-829b-b32bf47e8419</td>\n",
       "      <td>08/12/2020 05:00:00 AM</td>\n",
       "      <td>08/12/2020 05:00:00 AM</td>\n",
       "      <td>17</td>\n",
       "      <td>91</td>\n",
       "      <td>spin</td>\n",
       "      <td>22.0</td>\n",
       "      <td>21.0</td>\n",
       "      <td>LOGAN SQUARE</td>\n",
       "      <td>AVONDALE</td>\n",
       "      <td>41.922903</td>\n",
       "      <td>-87.704301</td>\n",
       "      <td>POINT (-87.70430082 41.92290349)</td>\n",
       "      <td>41.939283</td>\n",
       "      <td>-87.710757</td>\n",
       "      <td>POINT (-87.71075685 41.93928256)</td>\n",
       "    </tr>\n",
       "    <tr>\n",
       "      <th>2</th>\n",
       "      <td>9120cbf3-f749-49b6-b894-0e6e065cd731</td>\n",
       "      <td>08/12/2020 05:00:00 AM</td>\n",
       "      <td>08/12/2020 05:00:00 AM</td>\n",
       "      <td>2,883</td>\n",
       "      <td>724</td>\n",
       "      <td>spin</td>\n",
       "      <td>3.0</td>\n",
       "      <td>6.0</td>\n",
       "      <td>UPTOWN</td>\n",
       "      <td>LAKE VIEW</td>\n",
       "      <td>41.965435</td>\n",
       "      <td>-87.655145</td>\n",
       "      <td>POINT (-87.65514456 41.96543532)</td>\n",
       "      <td>41.943514</td>\n",
       "      <td>-87.657498</td>\n",
       "      <td>POINT (-87.65749768 41.9435138)</td>\n",
       "    </tr>\n",
       "    <tr>\n",
       "      <th>3</th>\n",
       "      <td>cf2e4abc-2649-49be-924b-468a1aefc4c8</td>\n",
       "      <td>08/12/2020 05:00:00 AM</td>\n",
       "      <td>08/12/2020 05:00:00 AM</td>\n",
       "      <td>5</td>\n",
       "      <td>21</td>\n",
       "      <td>spin</td>\n",
       "      <td>31.0</td>\n",
       "      <td>31.0</td>\n",
       "      <td>LOWER WEST SIDE</td>\n",
       "      <td>LOWER WEST SIDE</td>\n",
       "      <td>41.848335</td>\n",
       "      <td>-87.675179</td>\n",
       "      <td>POINT (-87.67517932 41.84833501)</td>\n",
       "      <td>41.848335</td>\n",
       "      <td>-87.675179</td>\n",
       "      <td>POINT (-87.67517932 41.84833501)</td>\n",
       "    </tr>\n",
       "    <tr>\n",
       "      <th>4</th>\n",
       "      <td>0448afb5-ab64-4090-b528-e3050e7eb0f2</td>\n",
       "      <td>08/12/2020 07:00:00 AM</td>\n",
       "      <td>08/12/2020 07:00:00 AM</td>\n",
       "      <td>1,179</td>\n",
       "      <td>245</td>\n",
       "      <td>spin</td>\n",
       "      <td>6.0</td>\n",
       "      <td>6.0</td>\n",
       "      <td>LAKE VIEW</td>\n",
       "      <td>LAKE VIEW</td>\n",
       "      <td>41.943514</td>\n",
       "      <td>-87.657498</td>\n",
       "      <td>POINT (-87.65749768 41.9435138)</td>\n",
       "      <td>41.943514</td>\n",
       "      <td>-87.657498</td>\n",
       "      <td>POINT (-87.65749768 41.9435138)</td>\n",
       "    </tr>\n",
       "  </tbody>\n",
       "</table>\n",
       "</div>"
      ],
      "text/plain": [
       "                                Trip ID              Start Time  \\\n",
       "0  3eb9a2a3-3266-4559-b1ec-e83a6f7972ab  08/12/2020 05:00:00 AM   \n",
       "1  82dd7b8f-8de0-4f25-829b-b32bf47e8419  08/12/2020 05:00:00 AM   \n",
       "2  9120cbf3-f749-49b6-b894-0e6e065cd731  08/12/2020 05:00:00 AM   \n",
       "3  cf2e4abc-2649-49be-924b-468a1aefc4c8  08/12/2020 05:00:00 AM   \n",
       "4  0448afb5-ab64-4090-b528-e3050e7eb0f2  08/12/2020 07:00:00 AM   \n",
       "\n",
       "                 End Time Trip Distance Trip Duration Vendor  \\\n",
       "0  08/12/2020 05:00:00 AM         1,153         1,027   spin   \n",
       "1  08/12/2020 05:00:00 AM            17            91   spin   \n",
       "2  08/12/2020 05:00:00 AM         2,883           724   spin   \n",
       "3  08/12/2020 05:00:00 AM             5            21   spin   \n",
       "4  08/12/2020 07:00:00 AM         1,179           245   spin   \n",
       "\n",
       "   Start Community Area Number  End Community Area Number  \\\n",
       "0                         68.0                       68.0   \n",
       "1                         22.0                       21.0   \n",
       "2                          3.0                        6.0   \n",
       "3                         31.0                       31.0   \n",
       "4                          6.0                        6.0   \n",
       "\n",
       "  Start Community Area Name End Community Area Name  Start Centroid Latitude  \\\n",
       "0                 ENGLEWOOD               ENGLEWOOD                41.780068   \n",
       "1              LOGAN SQUARE                AVONDALE                41.922903   \n",
       "2                    UPTOWN               LAKE VIEW                41.965435   \n",
       "3           LOWER WEST SIDE         LOWER WEST SIDE                41.848335   \n",
       "4                 LAKE VIEW               LAKE VIEW                41.943514   \n",
       "\n",
       "   Start Centroid Longitude           Start Centroid Location  \\\n",
       "0                -87.642266  POINT (-87.64226608 41.78006847)   \n",
       "1                -87.704301  POINT (-87.70430082 41.92290349)   \n",
       "2                -87.655145  POINT (-87.65514456 41.96543532)   \n",
       "3                -87.675179  POINT (-87.67517932 41.84833501)   \n",
       "4                -87.657498   POINT (-87.65749768 41.9435138)   \n",
       "\n",
       "   End Centroid Latitude  End Centroid Longitude  \\\n",
       "0              41.780068              -87.642266   \n",
       "1              41.939283              -87.710757   \n",
       "2              41.943514              -87.657498   \n",
       "3              41.848335              -87.675179   \n",
       "4              41.943514              -87.657498   \n",
       "\n",
       "              End Centroid Location  \n",
       "0  POINT (-87.64226608 41.78006847)  \n",
       "1  POINT (-87.71075685 41.93928256)  \n",
       "2   POINT (-87.65749768 41.9435138)  \n",
       "3  POINT (-87.67517932 41.84833501)  \n",
       "4   POINT (-87.65749768 41.9435138)  "
      ]
     },
     "execution_count": 3,
     "metadata": {},
     "output_type": "execute_result"
    }
   ],
   "source": [
    "df = pd.read_csv(\"../input/escooters-trips/E-Scooter_Trips_-_2020.csv\")\n",
    "df.head()"
   ]
  },
  {
   "cell_type": "markdown",
   "id": "ad0cb5e1",
   "metadata": {
    "papermill": {
     "duration": 0.037912,
     "end_time": "2022-04-13T08:54:36.230699",
     "exception": false,
     "start_time": "2022-04-13T08:54:36.192787",
     "status": "completed"
    },
    "tags": []
   },
   "source": [
    "**Data Information**"
   ]
  },
  {
   "cell_type": "code",
   "execution_count": 4,
   "id": "fe59754f",
   "metadata": {
    "execution": {
     "iopub.execute_input": "2022-04-13T08:54:36.340224Z",
     "iopub.status.busy": "2022-04-13T08:54:36.334984Z",
     "iopub.status.idle": "2022-04-13T08:54:37.086459Z",
     "shell.execute_reply": "2022-04-13T08:54:37.087030Z"
    },
    "papermill": {
     "duration": 0.80306,
     "end_time": "2022-04-13T08:54:37.087225",
     "exception": false,
     "start_time": "2022-04-13T08:54:36.284165",
     "status": "completed"
    },
    "tags": []
   },
   "outputs": [
    {
     "name": "stdout",
     "output_type": "stream",
     "text": [
      "<class 'pandas.core.frame.DataFrame'>\n",
      "RangeIndex: 630816 entries, 0 to 630815\n",
      "Data columns (total 16 columns):\n",
      " #   Column                       Non-Null Count   Dtype  \n",
      "---  ------                       --------------   -----  \n",
      " 0   Trip ID                      630816 non-null  object \n",
      " 1   Start Time                   630816 non-null  object \n",
      " 2   End Time                     630816 non-null  object \n",
      " 3   Trip Distance                630816 non-null  object \n",
      " 4   Trip Duration                630816 non-null  object \n",
      " 5   Vendor                       630816 non-null  object \n",
      " 6   Start Community Area Number  629934 non-null  float64\n",
      " 7   End Community Area Number    629598 non-null  float64\n",
      " 8   Start Community Area Name    629934 non-null  object \n",
      " 9   End Community Area Name      629598 non-null  object \n",
      " 10  Start Centroid Latitude      629934 non-null  float64\n",
      " 11  Start Centroid Longitude     629934 non-null  float64\n",
      " 12  Start Centroid Location      629934 non-null  object \n",
      " 13  End Centroid Latitude        629598 non-null  float64\n",
      " 14  End Centroid Longitude       629598 non-null  float64\n",
      " 15  End Centroid Location        629598 non-null  object \n",
      "dtypes: float64(6), object(10)\n",
      "memory usage: 77.0+ MB\n"
     ]
    }
   ],
   "source": [
    "df.info()"
   ]
  },
  {
   "cell_type": "markdown",
   "id": "0b5e8001",
   "metadata": {
    "papermill": {
     "duration": 0.033883,
     "end_time": "2022-04-13T08:54:37.159265",
     "exception": false,
     "start_time": "2022-04-13T08:54:37.125382",
     "status": "completed"
    },
    "tags": []
   },
   "source": [
    "**Data Preprocessing**"
   ]
  },
  {
   "cell_type": "markdown",
   "id": "a0e649b1",
   "metadata": {
    "papermill": {
     "duration": 0.034078,
     "end_time": "2022-04-13T08:54:37.228475",
     "exception": false,
     "start_time": "2022-04-13T08:54:37.194397",
     "status": "completed"
    },
    "tags": []
   },
   "source": [
    "We create the following rules:\n",
    "A trip needs to last at least one minute.\n",
    "The length of a trip needs to be at least 100 meters.\""
   ]
  },
  {
   "cell_type": "code",
   "execution_count": 5,
   "id": "fe611039",
   "metadata": {
    "execution": {
     "iopub.execute_input": "2022-04-13T08:54:37.383243Z",
     "iopub.status.busy": "2022-04-13T08:54:37.381940Z",
     "iopub.status.idle": "2022-04-13T08:54:38.592806Z",
     "shell.execute_reply": "2022-04-13T08:54:38.592115Z"
    },
    "papermill": {
     "duration": 1.327075,
     "end_time": "2022-04-13T08:54:38.592989",
     "exception": false,
     "start_time": "2022-04-13T08:54:37.265914",
     "status": "completed"
    },
    "tags": []
   },
   "outputs": [],
   "source": [
    "# Remove Comma from Values\n",
    "df[\"Trip Duration\"] = df[\"Trip Duration\"].str.replace(\",\", \"\")\n",
    "# Convert Data Type to Int\n",
    "df[\"Trip Duration\"] = df[\"Trip Duration\"].astype(\"int\")\n",
    "\n",
    "# Remove Comma from Values\n",
    "df[\"Trip Distance\"] = df[\"Trip Distance\"].str.replace(\",\", \"\")\n",
    "# Convert Data Type to Int\n",
    "df[\"Trip Distance\"] = df[\"Trip Distance\"].astype(\"int\")"
   ]
  },
  {
   "cell_type": "code",
   "execution_count": 6,
   "id": "76d5e7f2",
   "metadata": {
    "execution": {
     "iopub.execute_input": "2022-04-13T08:54:38.666994Z",
     "iopub.status.busy": "2022-04-13T08:54:38.666258Z",
     "iopub.status.idle": "2022-04-13T08:54:38.949886Z",
     "shell.execute_reply": "2022-04-13T08:54:38.949270Z"
    },
    "papermill": {
     "duration": 0.321461,
     "end_time": "2022-04-13T08:54:38.950067",
     "exception": false,
     "start_time": "2022-04-13T08:54:38.628606",
     "status": "completed"
    },
    "tags": []
   },
   "outputs": [],
   "source": [
    "# Dropping rows where distance is less than 150 meters or time is less than 90 seconds\n",
    "df = df.drop(df[(df['Trip Distance'] < 150) | (df['Trip Duration'] < 90)].index)"
   ]
  },
  {
   "cell_type": "code",
   "execution_count": 7,
   "id": "e0cae121",
   "metadata": {
    "execution": {
     "iopub.execute_input": "2022-04-13T08:54:39.027909Z",
     "iopub.status.busy": "2022-04-13T08:54:39.027056Z",
     "iopub.status.idle": "2022-04-13T08:54:39.031984Z",
     "shell.execute_reply": "2022-04-13T08:54:39.032563Z"
    },
    "papermill": {
     "duration": 0.047208,
     "end_time": "2022-04-13T08:54:39.032769",
     "exception": false,
     "start_time": "2022-04-13T08:54:38.985561",
     "status": "completed"
    },
    "tags": []
   },
   "outputs": [
    {
     "data": {
      "text/plain": [
       "(547220, 16)"
      ]
     },
     "execution_count": 7,
     "metadata": {},
     "output_type": "execute_result"
    }
   ],
   "source": [
    "# Table shape after removing rows with respect to conditions\n",
    "df.shape"
   ]
  },
  {
   "cell_type": "code",
   "execution_count": 8,
   "id": "04b4ed74",
   "metadata": {
    "execution": {
     "iopub.execute_input": "2022-04-13T08:54:39.115343Z",
     "iopub.status.busy": "2022-04-13T08:54:39.114627Z",
     "iopub.status.idle": "2022-04-13T08:54:40.125973Z",
     "shell.execute_reply": "2022-04-13T08:54:40.125400Z"
    },
    "papermill": {
     "duration": 1.056856,
     "end_time": "2022-04-13T08:54:40.126135",
     "exception": false,
     "start_time": "2022-04-13T08:54:39.069279",
     "status": "completed"
    },
    "tags": []
   },
   "outputs": [],
   "source": [
    "# Convert Start Time Data Type to Datetime \n",
    "df['Start Time'] = pd.to_datetime(df['Start Time'])\n",
    "\n",
    "# Extract Date from Start Time Column\n",
    "df['Start Date'] = pd.to_datetime(df['Start Time']).dt.date\n",
    "\n",
    "df['Start Date'] = pd.to_datetime(df['Start Date'])"
   ]
  },
  {
   "cell_type": "markdown",
   "id": "d6caca5c",
   "metadata": {
    "papermill": {
     "duration": 0.043951,
     "end_time": "2022-04-13T08:54:40.205333",
     "exception": false,
     "start_time": "2022-04-13T08:54:40.161382",
     "status": "completed"
    },
    "tags": []
   },
   "source": [
    "### Number of Trips by Date"
   ]
  },
  {
   "cell_type": "code",
   "execution_count": 9,
   "id": "76b7d3db",
   "metadata": {
    "execution": {
     "iopub.execute_input": "2022-04-13T08:54:40.291433Z",
     "iopub.status.busy": "2022-04-13T08:54:40.290682Z",
     "iopub.status.idle": "2022-04-13T08:54:40.317039Z",
     "shell.execute_reply": "2022-04-13T08:54:40.317623Z"
    },
    "papermill": {
     "duration": 0.069318,
     "end_time": "2022-04-13T08:54:40.317834",
     "exception": false,
     "start_time": "2022-04-13T08:54:40.248516",
     "status": "completed"
    },
    "tags": []
   },
   "outputs": [
    {
     "data": {
      "text/html": [
       "<div>\n",
       "<style scoped>\n",
       "    .dataframe tbody tr th:only-of-type {\n",
       "        vertical-align: middle;\n",
       "    }\n",
       "\n",
       "    .dataframe tbody tr th {\n",
       "        vertical-align: top;\n",
       "    }\n",
       "\n",
       "    .dataframe thead th {\n",
       "        text-align: right;\n",
       "    }\n",
       "</style>\n",
       "<table border=\"1\" class=\"dataframe\">\n",
       "  <thead>\n",
       "    <tr style=\"text-align: right;\">\n",
       "      <th></th>\n",
       "      <th>Date</th>\n",
       "      <th>Trips</th>\n",
       "    </tr>\n",
       "  </thead>\n",
       "  <tbody>\n",
       "    <tr>\n",
       "      <th>0</th>\n",
       "      <td>2020-08-12</td>\n",
       "      <td>2927</td>\n",
       "    </tr>\n",
       "    <tr>\n",
       "      <th>1</th>\n",
       "      <td>2020-08-13</td>\n",
       "      <td>3697</td>\n",
       "    </tr>\n",
       "    <tr>\n",
       "      <th>2</th>\n",
       "      <td>2020-08-14</td>\n",
       "      <td>4460</td>\n",
       "    </tr>\n",
       "    <tr>\n",
       "      <th>3</th>\n",
       "      <td>2020-08-15</td>\n",
       "      <td>5023</td>\n",
       "    </tr>\n",
       "    <tr>\n",
       "      <th>4</th>\n",
       "      <td>2020-08-16</td>\n",
       "      <td>5296</td>\n",
       "    </tr>\n",
       "  </tbody>\n",
       "</table>\n",
       "</div>"
      ],
      "text/plain": [
       "        Date  Trips\n",
       "0 2020-08-12   2927\n",
       "1 2020-08-13   3697\n",
       "2 2020-08-14   4460\n",
       "3 2020-08-15   5023\n",
       "4 2020-08-16   5296"
      ]
     },
     "execution_count": 9,
     "metadata": {},
     "output_type": "execute_result"
    }
   ],
   "source": [
    "ntd = df.groupby(\"Start Date\")[\"Start Date\"].agg([\"count\"]).reset_index()\n",
    "ntd.columns = [\"Date\", \"Trips\"]\n",
    "ntd.head()"
   ]
  },
  {
   "cell_type": "code",
   "execution_count": 10,
   "id": "d2a355dd",
   "metadata": {
    "execution": {
     "iopub.execute_input": "2022-04-13T08:54:40.397780Z",
     "iopub.status.busy": "2022-04-13T08:54:40.397079Z",
     "iopub.status.idle": "2022-04-13T08:54:40.401404Z",
     "shell.execute_reply": "2022-04-13T08:54:40.400905Z"
    },
    "papermill": {
     "duration": 0.046962,
     "end_time": "2022-04-13T08:54:40.401546",
     "exception": false,
     "start_time": "2022-04-13T08:54:40.354584",
     "status": "completed"
    },
    "tags": []
   },
   "outputs": [
    {
     "data": {
      "text/plain": [
       "4448.943089430894"
      ]
     },
     "execution_count": 10,
     "metadata": {},
     "output_type": "execute_result"
    }
   ],
   "source": [
    "# Averae Trips per day\n",
    "atpd = ntd[\"Trips\"].mean()\n",
    "atpd"
   ]
  },
  {
   "cell_type": "code",
   "execution_count": 11,
   "id": "c126d51a",
   "metadata": {
    "execution": {
     "iopub.execute_input": "2022-04-13T08:54:40.495171Z",
     "iopub.status.busy": "2022-04-13T08:54:40.478436Z",
     "iopub.status.idle": "2022-04-13T08:54:41.061531Z",
     "shell.execute_reply": "2022-04-13T08:54:41.062079Z"
    },
    "papermill": {
     "duration": 0.624557,
     "end_time": "2022-04-13T08:54:41.062259",
     "exception": false,
     "start_time": "2022-04-13T08:54:40.437702",
     "status": "completed"
    },
    "tags": []
   },
   "outputs": [
    {
     "data": {
      "image/png": "[encoded data removed]",
      "text/plain": [
       "<Figure size 1296x504 with 1 Axes>"
      ]
     },
     "metadata": {},
     "output_type": "display_data"
    }
   ],
   "source": [
    "plt.figure(figsize = (18, 7))\n",
    "plot = sns.lineplot(x = \"Date\", y = \"Trips\", data = ntd, color = \"blue\", linewidth = 2)\n",
    "plot.axhline(atpd, linestyle=\"--\", color=\"purple\", label=\"Average = 4449\", linewidth = 3) \n",
    "plt.title(\"Number of Trips by Date\", size = 20, color = \"red\", weight = \"bold\")\n",
    "plt.xlabel(\"Date\", size = 20, color = \"red\", weight = \"bold\")\n",
    "plt.ylabel(\"Trips\", size = 20, color = \"red\", weight = \"bold\")\n",
    "plt.legend(prop={'size': 15})\n",
    "plt.xticks(size = 15)\n",
    "plt.yticks(size = 15)\n",
    "plt.show()"
   ]
  },
  {
   "cell_type": "raw",
   "id": "80982b00",
   "metadata": {
    "papermill": {
     "duration": 0.044781,
     "end_time": "2022-04-13T08:54:41.146110",
     "exception": false,
     "start_time": "2022-04-13T08:54:41.101329",
     "status": "completed"
    },
    "tags": []
   },
   "source": [
    "Trips constantly start to decrease below average after Noveber 07, 2020"
   ]
  },
  {
   "cell_type": "markdown",
   "id": "ea25a0d2",
   "metadata": {
    "papermill": {
     "duration": 0.038625,
     "end_time": "2022-04-13T08:54:41.227087",
     "exception": false,
     "start_time": "2022-04-13T08:54:41.188462",
     "status": "completed"
    },
    "tags": []
   },
   "source": [
    "### Number of Trips by Day of Week"
   ]
  },
  {
   "cell_type": "code",
   "execution_count": 12,
   "id": "cad647ad",
   "metadata": {
    "execution": {
     "iopub.execute_input": "2022-04-13T08:54:41.308402Z",
     "iopub.status.busy": "2022-04-13T08:54:41.307761Z",
     "iopub.status.idle": "2022-04-13T08:54:41.524633Z",
     "shell.execute_reply": "2022-04-13T08:54:41.523994Z"
    },
    "papermill": {
     "duration": 0.259181,
     "end_time": "2022-04-13T08:54:41.524805",
     "exception": false,
     "start_time": "2022-04-13T08:54:41.265624",
     "status": "completed"
    },
    "tags": []
   },
   "outputs": [],
   "source": [
    "# Extract Day Name from Start Date Column\n",
    "df[\"Day of Week\"] = df[\"Start Date\"].dt.day_name()"
   ]
  },
  {
   "cell_type": "code",
   "execution_count": 13,
   "id": "b8c1d453",
   "metadata": {
    "execution": {
     "iopub.execute_input": "2022-04-13T08:54:41.606377Z",
     "iopub.status.busy": "2022-04-13T08:54:41.605714Z",
     "iopub.status.idle": "2022-04-13T08:54:41.747243Z",
     "shell.execute_reply": "2022-04-13T08:54:41.746581Z"
    },
    "papermill": {
     "duration": 0.18385,
     "end_time": "2022-04-13T08:54:41.747412",
     "exception": false,
     "start_time": "2022-04-13T08:54:41.563562",
     "status": "completed"
    },
    "tags": []
   },
   "outputs": [
    {
     "data": {
      "text/html": [
       "<div>\n",
       "<style scoped>\n",
       "    .dataframe tbody tr th:only-of-type {\n",
       "        vertical-align: middle;\n",
       "    }\n",
       "\n",
       "    .dataframe tbody tr th {\n",
       "        vertical-align: top;\n",
       "    }\n",
       "\n",
       "    .dataframe thead th {\n",
       "        text-align: right;\n",
       "    }\n",
       "</style>\n",
       "<table border=\"1\" class=\"dataframe\">\n",
       "  <thead>\n",
       "    <tr style=\"text-align: right;\">\n",
       "      <th></th>\n",
       "      <th>Day of Week</th>\n",
       "      <th>Trips</th>\n",
       "    </tr>\n",
       "  </thead>\n",
       "  <tbody>\n",
       "    <tr>\n",
       "      <th>0</th>\n",
       "      <td>Monday</td>\n",
       "      <td>61128</td>\n",
       "    </tr>\n",
       "    <tr>\n",
       "      <th>1</th>\n",
       "      <td>Tuesday</td>\n",
       "      <td>60091</td>\n",
       "    </tr>\n",
       "    <tr>\n",
       "      <th>2</th>\n",
       "      <td>Wednesday</td>\n",
       "      <td>72843</td>\n",
       "    </tr>\n",
       "    <tr>\n",
       "      <th>3</th>\n",
       "      <td>Thursday</td>\n",
       "      <td>72408</td>\n",
       "    </tr>\n",
       "    <tr>\n",
       "      <th>4</th>\n",
       "      <td>Friday</td>\n",
       "      <td>88764</td>\n",
       "    </tr>\n",
       "    <tr>\n",
       "      <th>5</th>\n",
       "      <td>Saturday</td>\n",
       "      <td>105808</td>\n",
       "    </tr>\n",
       "    <tr>\n",
       "      <th>6</th>\n",
       "      <td>Sunday</td>\n",
       "      <td>86178</td>\n",
       "    </tr>\n",
       "  </tbody>\n",
       "</table>\n",
       "</div>"
      ],
      "text/plain": [
       "  Day of Week   Trips\n",
       "0      Monday   61128\n",
       "1     Tuesday   60091\n",
       "2   Wednesday   72843\n",
       "3    Thursday   72408\n",
       "4      Friday   88764\n",
       "5    Saturday  105808\n",
       "6      Sunday   86178"
      ]
     },
     "execution_count": 13,
     "metadata": {},
     "output_type": "execute_result"
    }
   ],
   "source": [
    "cats = ['Monday', 'Tuesday', 'Wednesday', 'Thursday', 'Friday', 'Saturday', 'Sunday']\n",
    "tdw = df.groupby(\"Day of Week\")[\"Day of Week\"].agg([\"count\"]).reindex(cats).reset_index()\n",
    "tdw.columns = [\"Day of Week\", \"Trips\"]\n",
    "tdw"
   ]
  },
  {
   "cell_type": "code",
   "execution_count": 14,
   "id": "d242eff7",
   "metadata": {
    "execution": {
     "iopub.execute_input": "2022-04-13T08:54:41.834687Z",
     "iopub.status.busy": "2022-04-13T08:54:41.833970Z",
     "iopub.status.idle": "2022-04-13T08:54:41.836779Z",
     "shell.execute_reply": "2022-04-13T08:54:41.837286Z"
    },
    "papermill": {
     "duration": 0.049951,
     "end_time": "2022-04-13T08:54:41.837483",
     "exception": false,
     "start_time": "2022-04-13T08:54:41.787532",
     "status": "completed"
    },
    "tags": []
   },
   "outputs": [
    {
     "data": {
      "text/plain": [
       "78174.28571428571"
      ]
     },
     "execution_count": 14,
     "metadata": {},
     "output_type": "execute_result"
    }
   ],
   "source": [
    "atdw = tdw[\"Trips\"].mean()\n",
    "atdw"
   ]
  },
  {
   "cell_type": "code",
   "execution_count": 15,
   "id": "f8ee12d8",
   "metadata": {
    "execution": {
     "iopub.execute_input": "2022-04-13T08:54:41.956478Z",
     "iopub.status.busy": "2022-04-13T08:54:41.954193Z",
     "iopub.status.idle": "2022-04-13T08:54:42.269778Z",
     "shell.execute_reply": "2022-04-13T08:54:42.270441Z"
    },
    "papermill": {
     "duration": 0.390935,
     "end_time": "2022-04-13T08:54:42.270665",
     "exception": false,
     "start_time": "2022-04-13T08:54:41.879730",
     "status": "completed"
    },
    "tags": []
   },
   "outputs": [
    {
     "data": {
      "image/png": "[encoded data removed]",
      "text/plain": [
       "<Figure size 1296x504 with 1 Axes>"
      ]
     },
     "metadata": {},
     "output_type": "display_data"
    }
   ],
   "source": [
    "plt.figure(figsize = (18, 7))\n",
    "plot = sns.barplot(x = \"Day of Week\", y = \"Trips\", data = tdw, palette = \"spring\")\n",
    "for p in plot.patches:\n",
    "        plot.annotate('{:.0f}'.format(p.get_height()), \n",
    "                      (p.get_x()+0.4, p.get_height()),\n",
    "                       ha='center', va='bottom',color= 'black', size = 15)\n",
    "plot.axhline(atdw, linestyle=\"--\", color=\"purple\", label=\"Average = 78174\", linewidth = 3) \n",
    "plt.title(\"Number of Trips by Day of Week\", size = 20, color = \"red\", weight = \"bold\")\n",
    "plt.xlabel(\"Day\", size = 20, color = \"red\", weight = \"bold\")\n",
    "plt.ylabel(\"Trips\", size = 20, color = \"red\", weight = \"bold\")\n",
    "plt.legend(prop={'size': 15})\n",
    "plt.xticks(size = 15)\n",
    "plt.yticks(size = 15)\n",
    "plt.show()"
   ]
  },
  {
   "cell_type": "markdown",
   "id": "7aadc7b5",
   "metadata": {
    "papermill": {
     "duration": 0.043501,
     "end_time": "2022-04-13T08:54:42.357845",
     "exception": false,
     "start_time": "2022-04-13T08:54:42.314344",
     "status": "completed"
    },
    "tags": []
   },
   "source": [
    "### Distribution of Trips over Hours of the Day "
   ]
  },
  {
   "cell_type": "code",
   "execution_count": 16,
   "id": "4345940c",
   "metadata": {
    "execution": {
     "iopub.execute_input": "2022-04-13T08:54:42.450921Z",
     "iopub.status.busy": "2022-04-13T08:54:42.449801Z",
     "iopub.status.idle": "2022-04-13T08:54:42.513569Z",
     "shell.execute_reply": "2022-04-13T08:54:42.514261Z"
    },
    "papermill": {
     "duration": 0.113432,
     "end_time": "2022-04-13T08:54:42.514512",
     "exception": false,
     "start_time": "2022-04-13T08:54:42.401080",
     "status": "completed"
    },
    "tags": []
   },
   "outputs": [],
   "source": [
    "df[\"Hour\"] = df[\"Start Time\"].dt.hour"
   ]
  },
  {
   "cell_type": "code",
   "execution_count": 17,
   "id": "22ffa421",
   "metadata": {
    "execution": {
     "iopub.execute_input": "2022-04-13T08:54:42.609965Z",
     "iopub.status.busy": "2022-04-13T08:54:42.609246Z",
     "iopub.status.idle": "2022-04-13T08:54:42.625773Z",
     "shell.execute_reply": "2022-04-13T08:54:42.626389Z"
    },
    "papermill": {
     "duration": 0.062975,
     "end_time": "2022-04-13T08:54:42.626571",
     "exception": false,
     "start_time": "2022-04-13T08:54:42.563596",
     "status": "completed"
    },
    "tags": []
   },
   "outputs": [
    {
     "data": {
      "text/html": [
       "<div>\n",
       "<style scoped>\n",
       "    .dataframe tbody tr th:only-of-type {\n",
       "        vertical-align: middle;\n",
       "    }\n",
       "\n",
       "    .dataframe tbody tr th {\n",
       "        vertical-align: top;\n",
       "    }\n",
       "\n",
       "    .dataframe thead th {\n",
       "        text-align: right;\n",
       "    }\n",
       "</style>\n",
       "<table border=\"1\" class=\"dataframe\">\n",
       "  <thead>\n",
       "    <tr style=\"text-align: right;\">\n",
       "      <th></th>\n",
       "      <th>Hour</th>\n",
       "      <th>Trips</th>\n",
       "    </tr>\n",
       "  </thead>\n",
       "  <tbody>\n",
       "    <tr>\n",
       "      <th>0</th>\n",
       "      <td>17</td>\n",
       "      <td>58587</td>\n",
       "    </tr>\n",
       "    <tr>\n",
       "      <th>1</th>\n",
       "      <td>18</td>\n",
       "      <td>58403</td>\n",
       "    </tr>\n",
       "    <tr>\n",
       "      <th>2</th>\n",
       "      <td>16</td>\n",
       "      <td>52854</td>\n",
       "    </tr>\n",
       "    <tr>\n",
       "      <th>3</th>\n",
       "      <td>19</td>\n",
       "      <td>49838</td>\n",
       "    </tr>\n",
       "    <tr>\n",
       "      <th>4</th>\n",
       "      <td>15</td>\n",
       "      <td>47824</td>\n",
       "    </tr>\n",
       "    <tr>\n",
       "      <th>5</th>\n",
       "      <td>14</td>\n",
       "      <td>41795</td>\n",
       "    </tr>\n",
       "    <tr>\n",
       "      <th>6</th>\n",
       "      <td>20</td>\n",
       "      <td>39606</td>\n",
       "    </tr>\n",
       "    <tr>\n",
       "      <th>7</th>\n",
       "      <td>13</td>\n",
       "      <td>37959</td>\n",
       "    </tr>\n",
       "    <tr>\n",
       "      <th>8</th>\n",
       "      <td>12</td>\n",
       "      <td>34670</td>\n",
       "    </tr>\n",
       "    <tr>\n",
       "      <th>9</th>\n",
       "      <td>21</td>\n",
       "      <td>30926</td>\n",
       "    </tr>\n",
       "    <tr>\n",
       "      <th>10</th>\n",
       "      <td>11</td>\n",
       "      <td>28043</td>\n",
       "    </tr>\n",
       "    <tr>\n",
       "      <th>11</th>\n",
       "      <td>10</td>\n",
       "      <td>20741</td>\n",
       "    </tr>\n",
       "    <tr>\n",
       "      <th>12</th>\n",
       "      <td>9</td>\n",
       "      <td>15478</td>\n",
       "    </tr>\n",
       "    <tr>\n",
       "      <th>13</th>\n",
       "      <td>8</td>\n",
       "      <td>12842</td>\n",
       "    </tr>\n",
       "    <tr>\n",
       "      <th>14</th>\n",
       "      <td>7</td>\n",
       "      <td>8952</td>\n",
       "    </tr>\n",
       "    <tr>\n",
       "      <th>15</th>\n",
       "      <td>6</td>\n",
       "      <td>5501</td>\n",
       "    </tr>\n",
       "    <tr>\n",
       "      <th>16</th>\n",
       "      <td>5</td>\n",
       "      <td>2823</td>\n",
       "    </tr>\n",
       "    <tr>\n",
       "      <th>17</th>\n",
       "      <td>22</td>\n",
       "      <td>251</td>\n",
       "    </tr>\n",
       "    <tr>\n",
       "      <th>18</th>\n",
       "      <td>3</td>\n",
       "      <td>38</td>\n",
       "    </tr>\n",
       "    <tr>\n",
       "      <th>19</th>\n",
       "      <td>23</td>\n",
       "      <td>35</td>\n",
       "    </tr>\n",
       "    <tr>\n",
       "      <th>20</th>\n",
       "      <td>4</td>\n",
       "      <td>21</td>\n",
       "    </tr>\n",
       "    <tr>\n",
       "      <th>21</th>\n",
       "      <td>0</td>\n",
       "      <td>15</td>\n",
       "    </tr>\n",
       "    <tr>\n",
       "      <th>22</th>\n",
       "      <td>1</td>\n",
       "      <td>11</td>\n",
       "    </tr>\n",
       "    <tr>\n",
       "      <th>23</th>\n",
       "      <td>2</td>\n",
       "      <td>7</td>\n",
       "    </tr>\n",
       "  </tbody>\n",
       "</table>\n",
       "</div>"
      ],
      "text/plain": [
       "    Hour  Trips\n",
       "0     17  58587\n",
       "1     18  58403\n",
       "2     16  52854\n",
       "3     19  49838\n",
       "4     15  47824\n",
       "5     14  41795\n",
       "6     20  39606\n",
       "7     13  37959\n",
       "8     12  34670\n",
       "9     21  30926\n",
       "10    11  28043\n",
       "11    10  20741\n",
       "12     9  15478\n",
       "13     8  12842\n",
       "14     7   8952\n",
       "15     6   5501\n",
       "16     5   2823\n",
       "17    22    251\n",
       "18     3     38\n",
       "19    23     35\n",
       "20     4     21\n",
       "21     0     15\n",
       "22     1     11\n",
       "23     2      7"
      ]
     },
     "execution_count": 17,
     "metadata": {},
     "output_type": "execute_result"
    }
   ],
   "source": [
    "thd = df[\"Hour\"].value_counts().to_frame().reset_index()\n",
    "thd.columns = [\"Hour\", \"Trips\"]\n",
    "thd"
   ]
  },
  {
   "cell_type": "code",
   "execution_count": 18,
   "id": "77497aa4",
   "metadata": {
    "execution": {
     "iopub.execute_input": "2022-04-13T08:54:42.720044Z",
     "iopub.status.busy": "2022-04-13T08:54:42.719302Z",
     "iopub.status.idle": "2022-04-13T08:54:42.725481Z",
     "shell.execute_reply": "2022-04-13T08:54:42.726163Z"
    },
    "papermill": {
     "duration": 0.056808,
     "end_time": "2022-04-13T08:54:42.726417",
     "exception": false,
     "start_time": "2022-04-13T08:54:42.669609",
     "status": "completed"
    },
    "tags": []
   },
   "outputs": [
    {
     "data": {
      "text/plain": [
       "22800.833333333332"
      ]
     },
     "execution_count": 18,
     "metadata": {},
     "output_type": "execute_result"
    }
   ],
   "source": [
    "athd = thd[\"Trips\"].mean()\n",
    "athd"
   ]
  },
  {
   "cell_type": "code",
   "execution_count": 19,
   "id": "8ba3b680",
   "metadata": {
    "execution": {
     "iopub.execute_input": "2022-04-13T08:54:42.873998Z",
     "iopub.status.busy": "2022-04-13T08:54:42.841498Z",
     "iopub.status.idle": "2022-04-13T08:54:43.346556Z",
     "shell.execute_reply": "2022-04-13T08:54:43.345921Z"
    },
    "papermill": {
     "duration": 0.565711,
     "end_time": "2022-04-13T08:54:43.346730",
     "exception": false,
     "start_time": "2022-04-13T08:54:42.781019",
     "status": "completed"
    },
    "tags": []
   },
   "outputs": [
    {
     "data": {
      "image/png": "[encoded data removed]",
      "text/plain": [
       "<Figure size 1296x504 with 1 Axes>"
      ]
     },
     "metadata": {},
     "output_type": "display_data"
    }
   ],
   "source": [
    "plt.figure(figsize = (18, 7))\n",
    "plot = sns.barplot(x = \"Hour\", y = \"Trips\", data = thd, palette = \"nipy_spectral\")\n",
    "plot.axhline(athd, linestyle=\"--\", color=\"purple\", label=\"Average = 22800\", linewidth = 3) \n",
    "plt.title(\"Number of Trips by Hour of the Day\", size = 20, color = \"red\", weight = \"bold\")\n",
    "plt.xlabel(\"Hour\", size = 20, color = \"red\", weight = \"bold\")\n",
    "plt.ylabel(\"Trips\", size = 20, color = \"red\", weight = \"bold\")\n",
    "plt.legend(prop={'size': 15})\n",
    "plt.xticks(size = 15)\n",
    "plt.yticks(size = 15)\n",
    "plt.show()"
   ]
  },
  {
   "cell_type": "markdown",
   "id": "1c43c4c1",
   "metadata": {
    "papermill": {
     "duration": 0.04864,
     "end_time": "2022-04-13T08:54:43.442332",
     "exception": false,
     "start_time": "2022-04-13T08:54:43.393692",
     "status": "completed"
    },
    "tags": []
   },
   "source": [
    "### Number of trips by day of week for first and last 15 days"
   ]
  },
  {
   "cell_type": "code",
   "execution_count": 20,
   "id": "11990cec",
   "metadata": {
    "execution": {
     "iopub.execute_input": "2022-04-13T08:54:43.538775Z",
     "iopub.status.busy": "2022-04-13T08:54:43.537972Z",
     "iopub.status.idle": "2022-04-13T08:54:43.807897Z",
     "shell.execute_reply": "2022-04-13T08:54:43.807258Z"
    },
    "papermill": {
     "duration": 0.319607,
     "end_time": "2022-04-13T08:54:43.808091",
     "exception": false,
     "start_time": "2022-04-13T08:54:43.488484",
     "status": "completed"
    },
    "tags": []
   },
   "outputs": [],
   "source": [
    "# First 15 Days\n",
    "ftd = df[(df[\"Start Date\"] >= \"2020-08-12\") & (df[\"Start Date\"] <= \"2020-08-26\")]\n",
    "ftd[\"Time Period\"] = \"First 15 Days\""
   ]
  },
  {
   "cell_type": "code",
   "execution_count": 21,
   "id": "6cb51048",
   "metadata": {
    "execution": {
     "iopub.execute_input": "2022-04-13T08:54:43.907798Z",
     "iopub.status.busy": "2022-04-13T08:54:43.907053Z",
     "iopub.status.idle": "2022-04-13T08:54:43.919441Z",
     "shell.execute_reply": "2022-04-13T08:54:43.918863Z"
    },
    "papermill": {
     "duration": 0.065797,
     "end_time": "2022-04-13T08:54:43.919616",
     "exception": false,
     "start_time": "2022-04-13T08:54:43.853819",
     "status": "completed"
    },
    "tags": []
   },
   "outputs": [],
   "source": [
    "# Last 15 Days\n",
    "ltd = df[(df[\"Start Date\"] >= \"2020-11-12\") & (df[\"Start Date\"] <= \"2020-11-26\")]\n",
    "ltd[\"Time Period\"] = \"Last 15 Days\" "
   ]
  },
  {
   "cell_type": "code",
   "execution_count": 22,
   "id": "21fa6d3c",
   "metadata": {
    "execution": {
     "iopub.execute_input": "2022-04-13T08:54:44.020199Z",
     "iopub.status.busy": "2022-04-13T08:54:44.019454Z",
     "iopub.status.idle": "2022-04-13T08:54:44.067247Z",
     "shell.execute_reply": "2022-04-13T08:54:44.067827Z"
    },
    "papermill": {
     "duration": 0.101834,
     "end_time": "2022-04-13T08:54:44.068059",
     "exception": false,
     "start_time": "2022-04-13T08:54:43.966225",
     "status": "completed"
    },
    "tags": []
   },
   "outputs": [],
   "source": [
    "fltd = pd.concat([ftd, ltd])"
   ]
  },
  {
   "cell_type": "markdown",
   "id": "6d07c0b2",
   "metadata": {
    "papermill": {
     "duration": 0.048111,
     "end_time": "2022-04-13T08:54:44.163327",
     "exception": false,
     "start_time": "2022-04-13T08:54:44.115216",
     "status": "completed"
    },
    "tags": []
   },
   "source": [
    "**Trips Statistics by Time Period**"
   ]
  },
  {
   "cell_type": "code",
   "execution_count": 23,
   "id": "695dfee7",
   "metadata": {
    "execution": {
     "iopub.execute_input": "2022-04-13T08:54:44.260461Z",
     "iopub.status.busy": "2022-04-13T08:54:44.259801Z",
     "iopub.status.idle": "2022-04-13T08:54:44.301367Z",
     "shell.execute_reply": "2022-04-13T08:54:44.301914Z"
    },
    "papermill": {
     "duration": 0.092346,
     "end_time": "2022-04-13T08:54:44.302133",
     "exception": false,
     "start_time": "2022-04-13T08:54:44.209787",
     "status": "completed"
    },
    "tags": []
   },
   "outputs": [
    {
     "data": {
      "text/html": [
       "<div>\n",
       "<style scoped>\n",
       "    .dataframe tbody tr th:only-of-type {\n",
       "        vertical-align: middle;\n",
       "    }\n",
       "\n",
       "    .dataframe tbody tr th {\n",
       "        vertical-align: top;\n",
       "    }\n",
       "\n",
       "    .dataframe thead th {\n",
       "        text-align: right;\n",
       "    }\n",
       "</style>\n",
       "<table border=\"1\" class=\"dataframe\">\n",
       "  <thead>\n",
       "    <tr style=\"text-align: right;\">\n",
       "      <th></th>\n",
       "      <th>Time Period</th>\n",
       "      <th>Trips</th>\n",
       "      <th>Trips Distance</th>\n",
       "      <th>Trips Duration</th>\n",
       "    </tr>\n",
       "  </thead>\n",
       "  <tbody>\n",
       "    <tr>\n",
       "      <th>0</th>\n",
       "      <td>First 15 Days</td>\n",
       "      <td>79187</td>\n",
       "      <td>3938.061083</td>\n",
       "      <td>1448.776201</td>\n",
       "    </tr>\n",
       "    <tr>\n",
       "      <th>1</th>\n",
       "      <td>Last 15 Days</td>\n",
       "      <td>28729</td>\n",
       "      <td>2404.381566</td>\n",
       "      <td>742.904591</td>\n",
       "    </tr>\n",
       "  </tbody>\n",
       "</table>\n",
       "</div>"
      ],
      "text/plain": [
       "     Time Period  Trips  Trips Distance  Trips Duration\n",
       "0  First 15 Days  79187     3938.061083     1448.776201\n",
       "1   Last 15 Days  28729     2404.381566      742.904591"
      ]
     },
     "execution_count": 23,
     "metadata": {},
     "output_type": "execute_result"
    }
   ],
   "source": [
    "fl_15 = fltd.groupby(\"Time Period\").agg({\"Time Period\": \"count\",\n",
    "                                                        \"Trip Distance\": \"mean\",\n",
    "                                                        \"Trip Duration\": \"mean\"})\n",
    "fl_15.columns = [\"Trips\", \"Trips Distance\", \"Trips Duration\"]\n",
    "fl_15 = fl_15.reset_index()\n",
    "fl_15"
   ]
  },
  {
   "cell_type": "code",
   "execution_count": 24,
   "id": "1109c8c2",
   "metadata": {
    "execution": {
     "iopub.execute_input": "2022-04-13T08:54:44.401737Z",
     "iopub.status.busy": "2022-04-13T08:54:44.401063Z",
     "iopub.status.idle": "2022-04-13T08:54:44.408498Z",
     "shell.execute_reply": "2022-04-13T08:54:44.409106Z"
    },
    "papermill": {
     "duration": 0.05952,
     "end_time": "2022-04-13T08:54:44.409355",
     "exception": false,
     "start_time": "2022-04-13T08:54:44.349835",
     "status": "completed"
    },
    "tags": []
   },
   "outputs": [],
   "source": [
    "fl_15 = fl_15.to_csv(\"Trips_Statistics_by_Time_Period.csv\")"
   ]
  },
  {
   "cell_type": "markdown",
   "id": "c4e571bc",
   "metadata": {
    "papermill": {
     "duration": 0.047784,
     "end_time": "2022-04-13T08:54:44.505956",
     "exception": false,
     "start_time": "2022-04-13T08:54:44.458172",
     "status": "completed"
    },
    "tags": []
   },
   "source": [
    "**Trips Statistics by Day of Week and Time Period**"
   ]
  },
  {
   "cell_type": "code",
   "execution_count": 25,
   "id": "2a2e43fd",
   "metadata": {
    "execution": {
     "iopub.execute_input": "2022-04-13T08:54:44.605044Z",
     "iopub.status.busy": "2022-04-13T08:54:44.604284Z",
     "iopub.status.idle": "2022-04-13T08:54:44.665951Z",
     "shell.execute_reply": "2022-04-13T08:54:44.666461Z"
    },
    "papermill": {
     "duration": 0.113257,
     "end_time": "2022-04-13T08:54:44.666674",
     "exception": false,
     "start_time": "2022-04-13T08:54:44.553417",
     "status": "completed"
    },
    "tags": []
   },
   "outputs": [
    {
     "data": {
      "text/html": [
       "<div>\n",
       "<style scoped>\n",
       "    .dataframe tbody tr th:only-of-type {\n",
       "        vertical-align: middle;\n",
       "    }\n",
       "\n",
       "    .dataframe tbody tr th {\n",
       "        vertical-align: top;\n",
       "    }\n",
       "\n",
       "    .dataframe thead th {\n",
       "        text-align: right;\n",
       "    }\n",
       "</style>\n",
       "<table border=\"1\" class=\"dataframe\">\n",
       "  <thead>\n",
       "    <tr style=\"text-align: right;\">\n",
       "      <th></th>\n",
       "      <th>Day of Week</th>\n",
       "      <th>Time Period</th>\n",
       "      <th>Trips</th>\n",
       "      <th>Trips Distance</th>\n",
       "      <th>Trips Duration</th>\n",
       "    </tr>\n",
       "  </thead>\n",
       "  <tbody>\n",
       "    <tr>\n",
       "      <th>0</th>\n",
       "      <td>Friday</td>\n",
       "      <td>First 15 Days</td>\n",
       "      <td>11176</td>\n",
       "      <td>4001.340104</td>\n",
       "      <td>1451.206514</td>\n",
       "    </tr>\n",
       "    <tr>\n",
       "      <th>1</th>\n",
       "      <td>Friday</td>\n",
       "      <td>Last 15 Days</td>\n",
       "      <td>5655</td>\n",
       "      <td>2551.222635</td>\n",
       "      <td>808.118833</td>\n",
       "    </tr>\n",
       "    <tr>\n",
       "      <th>2</th>\n",
       "      <td>Monday</td>\n",
       "      <td>First 15 Days</td>\n",
       "      <td>9404</td>\n",
       "      <td>4038.129519</td>\n",
       "      <td>1430.084751</td>\n",
       "    </tr>\n",
       "    <tr>\n",
       "      <th>3</th>\n",
       "      <td>Monday</td>\n",
       "      <td>Last 15 Days</td>\n",
       "      <td>3259</td>\n",
       "      <td>2209.149432</td>\n",
       "      <td>636.962258</td>\n",
       "    </tr>\n",
       "    <tr>\n",
       "      <th>4</th>\n",
       "      <td>Saturday</td>\n",
       "      <td>First 15 Days</td>\n",
       "      <td>13742</td>\n",
       "      <td>3848.919735</td>\n",
       "      <td>1411.233590</td>\n",
       "    </tr>\n",
       "    <tr>\n",
       "      <th>5</th>\n",
       "      <td>Saturday</td>\n",
       "      <td>Last 15 Days</td>\n",
       "      <td>4924</td>\n",
       "      <td>2377.294070</td>\n",
       "      <td>756.240861</td>\n",
       "    </tr>\n",
       "    <tr>\n",
       "      <th>6</th>\n",
       "      <td>Sunday</td>\n",
       "      <td>First 15 Days</td>\n",
       "      <td>11997</td>\n",
       "      <td>4013.857964</td>\n",
       "      <td>1492.836376</td>\n",
       "    </tr>\n",
       "    <tr>\n",
       "      <th>7</th>\n",
       "      <td>Sunday</td>\n",
       "      <td>Last 15 Days</td>\n",
       "      <td>2923</td>\n",
       "      <td>2303.794389</td>\n",
       "      <td>761.873418</td>\n",
       "    </tr>\n",
       "    <tr>\n",
       "      <th>8</th>\n",
       "      <td>Thursday</td>\n",
       "      <td>First 15 Days</td>\n",
       "      <td>7745</td>\n",
       "      <td>4001.970562</td>\n",
       "      <td>1563.824403</td>\n",
       "    </tr>\n",
       "    <tr>\n",
       "      <th>9</th>\n",
       "      <td>Thursday</td>\n",
       "      <td>Last 15 Days</td>\n",
       "      <td>6465</td>\n",
       "      <td>2585.311214</td>\n",
       "      <td>783.619180</td>\n",
       "    </tr>\n",
       "    <tr>\n",
       "      <th>10</th>\n",
       "      <td>Tuesday</td>\n",
       "      <td>First 15 Days</td>\n",
       "      <td>10717</td>\n",
       "      <td>3954.386302</td>\n",
       "      <td>1428.244565</td>\n",
       "    </tr>\n",
       "    <tr>\n",
       "      <th>11</th>\n",
       "      <td>Tuesday</td>\n",
       "      <td>Last 15 Days</td>\n",
       "      <td>2561</td>\n",
       "      <td>2122.738383</td>\n",
       "      <td>640.399844</td>\n",
       "    </tr>\n",
       "    <tr>\n",
       "      <th>12</th>\n",
       "      <td>Wednesday</td>\n",
       "      <td>First 15 Days</td>\n",
       "      <td>14406</td>\n",
       "      <td>3799.053658</td>\n",
       "      <td>1411.633555</td>\n",
       "    </tr>\n",
       "    <tr>\n",
       "      <th>13</th>\n",
       "      <td>Wednesday</td>\n",
       "      <td>Last 15 Days</td>\n",
       "      <td>2942</td>\n",
       "      <td>2331.250510</td>\n",
       "      <td>693.503059</td>\n",
       "    </tr>\n",
       "  </tbody>\n",
       "</table>\n",
       "</div>"
      ],
      "text/plain": [
       "   Day of Week    Time Period  Trips  Trips Distance  Trips Duration\n",
       "0       Friday  First 15 Days  11176     4001.340104     1451.206514\n",
       "1       Friday   Last 15 Days   5655     2551.222635      808.118833\n",
       "2       Monday  First 15 Days   9404     4038.129519     1430.084751\n",
       "3       Monday   Last 15 Days   3259     2209.149432      636.962258\n",
       "4     Saturday  First 15 Days  13742     3848.919735     1411.233590\n",
       "5     Saturday   Last 15 Days   4924     2377.294070      756.240861\n",
       "6       Sunday  First 15 Days  11997     4013.857964     1492.836376\n",
       "7       Sunday   Last 15 Days   2923     2303.794389      761.873418\n",
       "8     Thursday  First 15 Days   7745     4001.970562     1563.824403\n",
       "9     Thursday   Last 15 Days   6465     2585.311214      783.619180\n",
       "10     Tuesday  First 15 Days  10717     3954.386302     1428.244565\n",
       "11     Tuesday   Last 15 Days   2561     2122.738383      640.399844\n",
       "12   Wednesday  First 15 Days  14406     3799.053658     1411.633555\n",
       "13   Wednesday   Last 15 Days   2942     2331.250510      693.503059"
      ]
     },
     "execution_count": 25,
     "metadata": {},
     "output_type": "execute_result"
    }
   ],
   "source": [
    "fltdg = fltd.groupby([\"Day of Week\", \"Time Period\"]).agg({\"Time Period\": \"count\",\n",
    "                                                          \"Trip Distance\": \"mean\",\n",
    "                                                          \"Trip Duration\": \"mean\"})\n",
    "fltdg.columns = [\"Trips\", \"Trips Distance\", \"Trips Duration\"]\n",
    "fltdg = fltdg.reset_index()\n",
    "fltdg"
   ]
  },
  {
   "cell_type": "code",
   "execution_count": 26,
   "id": "9ae707cd",
   "metadata": {
    "execution": {
     "iopub.execute_input": "2022-04-13T08:54:44.765667Z",
     "iopub.status.busy": "2022-04-13T08:54:44.764994Z",
     "iopub.status.idle": "2022-04-13T08:54:44.770342Z",
     "shell.execute_reply": "2022-04-13T08:54:44.770981Z"
    },
    "papermill": {
     "duration": 0.056912,
     "end_time": "2022-04-13T08:54:44.771205",
     "exception": false,
     "start_time": "2022-04-13T08:54:44.714293",
     "status": "completed"
    },
    "tags": []
   },
   "outputs": [],
   "source": [
    "fltdg.to_csv(\"Trips_Statistics_by_Day_of_Week_and_Time_Period.csv\")"
   ]
  },
  {
   "cell_type": "code",
   "execution_count": 27,
   "id": "6122bb34",
   "metadata": {
    "execution": {
     "iopub.execute_input": "2022-04-13T08:54:44.880508Z",
     "iopub.status.busy": "2022-04-13T08:54:44.879815Z",
     "iopub.status.idle": "2022-04-13T08:54:45.254616Z",
     "shell.execute_reply": "2022-04-13T08:54:45.255172Z"
    },
    "papermill": {
     "duration": 0.427129,
     "end_time": "2022-04-13T08:54:45.255384",
     "exception": false,
     "start_time": "2022-04-13T08:54:44.828255",
     "status": "completed"
    },
    "tags": []
   },
   "outputs": [
    {
     "data": {
      "image/png": "[encoded data removed]",
      "text/plain": [
       "<Figure size 1296x504 with 1 Axes>"
      ]
     },
     "metadata": {},
     "output_type": "display_data"
    }
   ],
   "source": [
    "plt.figure(figsize = (18, 7))\n",
    "sns.barplot(x = \"Day of Week\", y = \"Trips\", hue = \"Time Period\", data = fltdg, palette = \"hsv\") \n",
    "plt.title(\"Number of trips by day of week for first and last 15 days\", size = 20, color = \"red\", weight = \"bold\")\n",
    "plt.xlabel(\"Days\", size = 20, color = \"red\", weight = \"bold\")\n",
    "plt.ylabel(\"Trips\", size = 20, color = \"red\", weight = \"bold\")\n",
    "plt.legend(prop={'size': 15})\n",
    "plt.xticks(size = 15)\n",
    "plt.yticks(size = 15)\n",
    "plt.show()"
   ]
  },
  {
   "cell_type": "code",
   "execution_count": 28,
   "id": "3a96fd69",
   "metadata": {
    "execution": {
     "iopub.execute_input": "2022-04-13T08:54:45.362673Z",
     "iopub.status.busy": "2022-04-13T08:54:45.361950Z",
     "iopub.status.idle": "2022-04-13T08:54:45.401049Z",
     "shell.execute_reply": "2022-04-13T08:54:45.401693Z"
    },
    "papermill": {
     "duration": 0.096473,
     "end_time": "2022-04-13T08:54:45.401905",
     "exception": false,
     "start_time": "2022-04-13T08:54:45.305432",
     "status": "completed"
    },
    "tags": []
   },
   "outputs": [
    {
     "data": {
      "text/html": [
       "<div>\n",
       "<style scoped>\n",
       "    .dataframe tbody tr th:only-of-type {\n",
       "        vertical-align: middle;\n",
       "    }\n",
       "\n",
       "    .dataframe tbody tr th {\n",
       "        vertical-align: top;\n",
       "    }\n",
       "\n",
       "    .dataframe thead th {\n",
       "        text-align: right;\n",
       "    }\n",
       "</style>\n",
       "<table border=\"1\" class=\"dataframe\">\n",
       "  <thead>\n",
       "    <tr style=\"text-align: right;\">\n",
       "      <th></th>\n",
       "      <th>Hour</th>\n",
       "      <th>Time Period</th>\n",
       "      <th>Trips</th>\n",
       "    </tr>\n",
       "  </thead>\n",
       "  <tbody>\n",
       "    <tr>\n",
       "      <th>0</th>\n",
       "      <td>0</td>\n",
       "      <td>First 15 Days</td>\n",
       "      <td>2</td>\n",
       "    </tr>\n",
       "    <tr>\n",
       "      <th>1</th>\n",
       "      <td>1</td>\n",
       "      <td>First 15 Days</td>\n",
       "      <td>1</td>\n",
       "    </tr>\n",
       "    <tr>\n",
       "      <th>2</th>\n",
       "      <td>2</td>\n",
       "      <td>First 15 Days</td>\n",
       "      <td>5</td>\n",
       "    </tr>\n",
       "    <tr>\n",
       "      <th>3</th>\n",
       "      <td>3</td>\n",
       "      <td>First 15 Days</td>\n",
       "      <td>3</td>\n",
       "    </tr>\n",
       "    <tr>\n",
       "      <th>4</th>\n",
       "      <td>3</td>\n",
       "      <td>Last 15 Days</td>\n",
       "      <td>3</td>\n",
       "    </tr>\n",
       "    <tr>\n",
       "      <th>5</th>\n",
       "      <td>4</td>\n",
       "      <td>First 15 Days</td>\n",
       "      <td>3</td>\n",
       "    </tr>\n",
       "    <tr>\n",
       "      <th>6</th>\n",
       "      <td>5</td>\n",
       "      <td>First 15 Days</td>\n",
       "      <td>307</td>\n",
       "    </tr>\n",
       "    <tr>\n",
       "      <th>7</th>\n",
       "      <td>5</td>\n",
       "      <td>Last 15 Days</td>\n",
       "      <td>255</td>\n",
       "    </tr>\n",
       "    <tr>\n",
       "      <th>8</th>\n",
       "      <td>6</td>\n",
       "      <td>First 15 Days</td>\n",
       "      <td>534</td>\n",
       "    </tr>\n",
       "    <tr>\n",
       "      <th>9</th>\n",
       "      <td>6</td>\n",
       "      <td>Last 15 Days</td>\n",
       "      <td>422</td>\n",
       "    </tr>\n",
       "    <tr>\n",
       "      <th>10</th>\n",
       "      <td>7</td>\n",
       "      <td>First 15 Days</td>\n",
       "      <td>990</td>\n",
       "    </tr>\n",
       "    <tr>\n",
       "      <th>11</th>\n",
       "      <td>7</td>\n",
       "      <td>Last 15 Days</td>\n",
       "      <td>638</td>\n",
       "    </tr>\n",
       "    <tr>\n",
       "      <th>12</th>\n",
       "      <td>8</td>\n",
       "      <td>First 15 Days</td>\n",
       "      <td>1475</td>\n",
       "    </tr>\n",
       "    <tr>\n",
       "      <th>13</th>\n",
       "      <td>8</td>\n",
       "      <td>Last 15 Days</td>\n",
       "      <td>978</td>\n",
       "    </tr>\n",
       "    <tr>\n",
       "      <th>14</th>\n",
       "      <td>9</td>\n",
       "      <td>First 15 Days</td>\n",
       "      <td>1948</td>\n",
       "    </tr>\n",
       "    <tr>\n",
       "      <th>15</th>\n",
       "      <td>9</td>\n",
       "      <td>Last 15 Days</td>\n",
       "      <td>1067</td>\n",
       "    </tr>\n",
       "    <tr>\n",
       "      <th>16</th>\n",
       "      <td>10</td>\n",
       "      <td>First 15 Days</td>\n",
       "      <td>2632</td>\n",
       "    </tr>\n",
       "    <tr>\n",
       "      <th>17</th>\n",
       "      <td>10</td>\n",
       "      <td>Last 15 Days</td>\n",
       "      <td>1342</td>\n",
       "    </tr>\n",
       "    <tr>\n",
       "      <th>18</th>\n",
       "      <td>11</td>\n",
       "      <td>First 15 Days</td>\n",
       "      <td>3574</td>\n",
       "    </tr>\n",
       "    <tr>\n",
       "      <th>19</th>\n",
       "      <td>11</td>\n",
       "      <td>Last 15 Days</td>\n",
       "      <td>1770</td>\n",
       "    </tr>\n",
       "    <tr>\n",
       "      <th>20</th>\n",
       "      <td>12</td>\n",
       "      <td>First 15 Days</td>\n",
       "      <td>4787</td>\n",
       "    </tr>\n",
       "    <tr>\n",
       "      <th>21</th>\n",
       "      <td>12</td>\n",
       "      <td>Last 15 Days</td>\n",
       "      <td>2049</td>\n",
       "    </tr>\n",
       "    <tr>\n",
       "      <th>22</th>\n",
       "      <td>13</td>\n",
       "      <td>First 15 Days</td>\n",
       "      <td>5364</td>\n",
       "    </tr>\n",
       "    <tr>\n",
       "      <th>23</th>\n",
       "      <td>13</td>\n",
       "      <td>Last 15 Days</td>\n",
       "      <td>2167</td>\n",
       "    </tr>\n",
       "    <tr>\n",
       "      <th>24</th>\n",
       "      <td>14</td>\n",
       "      <td>First 15 Days</td>\n",
       "      <td>5947</td>\n",
       "    </tr>\n",
       "    <tr>\n",
       "      <th>25</th>\n",
       "      <td>14</td>\n",
       "      <td>Last 15 Days</td>\n",
       "      <td>2537</td>\n",
       "    </tr>\n",
       "    <tr>\n",
       "      <th>26</th>\n",
       "      <td>15</td>\n",
       "      <td>First 15 Days</td>\n",
       "      <td>6367</td>\n",
       "    </tr>\n",
       "    <tr>\n",
       "      <th>27</th>\n",
       "      <td>15</td>\n",
       "      <td>Last 15 Days</td>\n",
       "      <td>2760</td>\n",
       "    </tr>\n",
       "    <tr>\n",
       "      <th>28</th>\n",
       "      <td>16</td>\n",
       "      <td>First 15 Days</td>\n",
       "      <td>7272</td>\n",
       "    </tr>\n",
       "    <tr>\n",
       "      <th>29</th>\n",
       "      <td>16</td>\n",
       "      <td>Last 15 Days</td>\n",
       "      <td>2886</td>\n",
       "    </tr>\n",
       "    <tr>\n",
       "      <th>30</th>\n",
       "      <td>17</td>\n",
       "      <td>First 15 Days</td>\n",
       "      <td>8623</td>\n",
       "    </tr>\n",
       "    <tr>\n",
       "      <th>31</th>\n",
       "      <td>17</td>\n",
       "      <td>Last 15 Days</td>\n",
       "      <td>2748</td>\n",
       "    </tr>\n",
       "    <tr>\n",
       "      <th>32</th>\n",
       "      <td>18</td>\n",
       "      <td>First 15 Days</td>\n",
       "      <td>8654</td>\n",
       "    </tr>\n",
       "    <tr>\n",
       "      <th>33</th>\n",
       "      <td>18</td>\n",
       "      <td>Last 15 Days</td>\n",
       "      <td>2525</td>\n",
       "    </tr>\n",
       "    <tr>\n",
       "      <th>34</th>\n",
       "      <td>19</td>\n",
       "      <td>First 15 Days</td>\n",
       "      <td>8978</td>\n",
       "    </tr>\n",
       "    <tr>\n",
       "      <th>35</th>\n",
       "      <td>19</td>\n",
       "      <td>Last 15 Days</td>\n",
       "      <td>1828</td>\n",
       "    </tr>\n",
       "    <tr>\n",
       "      <th>36</th>\n",
       "      <td>20</td>\n",
       "      <td>First 15 Days</td>\n",
       "      <td>7459</td>\n",
       "    </tr>\n",
       "    <tr>\n",
       "      <th>37</th>\n",
       "      <td>20</td>\n",
       "      <td>Last 15 Days</td>\n",
       "      <td>1485</td>\n",
       "    </tr>\n",
       "    <tr>\n",
       "      <th>38</th>\n",
       "      <td>21</td>\n",
       "      <td>First 15 Days</td>\n",
       "      <td>4229</td>\n",
       "    </tr>\n",
       "    <tr>\n",
       "      <th>39</th>\n",
       "      <td>21</td>\n",
       "      <td>Last 15 Days</td>\n",
       "      <td>1263</td>\n",
       "    </tr>\n",
       "    <tr>\n",
       "      <th>40</th>\n",
       "      <td>22</td>\n",
       "      <td>First 15 Days</td>\n",
       "      <td>27</td>\n",
       "    </tr>\n",
       "    <tr>\n",
       "      <th>41</th>\n",
       "      <td>22</td>\n",
       "      <td>Last 15 Days</td>\n",
       "      <td>6</td>\n",
       "    </tr>\n",
       "    <tr>\n",
       "      <th>42</th>\n",
       "      <td>23</td>\n",
       "      <td>First 15 Days</td>\n",
       "      <td>6</td>\n",
       "    </tr>\n",
       "  </tbody>\n",
       "</table>\n",
       "</div>"
      ],
      "text/plain": [
       "    Hour    Time Period  Trips\n",
       "0      0  First 15 Days      2\n",
       "1      1  First 15 Days      1\n",
       "2      2  First 15 Days      5\n",
       "3      3  First 15 Days      3\n",
       "4      3   Last 15 Days      3\n",
       "5      4  First 15 Days      3\n",
       "6      5  First 15 Days    307\n",
       "7      5   Last 15 Days    255\n",
       "8      6  First 15 Days    534\n",
       "9      6   Last 15 Days    422\n",
       "10     7  First 15 Days    990\n",
       "11     7   Last 15 Days    638\n",
       "12     8  First 15 Days   1475\n",
       "13     8   Last 15 Days    978\n",
       "14     9  First 15 Days   1948\n",
       "15     9   Last 15 Days   1067\n",
       "16    10  First 15 Days   2632\n",
       "17    10   Last 15 Days   1342\n",
       "18    11  First 15 Days   3574\n",
       "19    11   Last 15 Days   1770\n",
       "20    12  First 15 Days   4787\n",
       "21    12   Last 15 Days   2049\n",
       "22    13  First 15 Days   5364\n",
       "23    13   Last 15 Days   2167\n",
       "24    14  First 15 Days   5947\n",
       "25    14   Last 15 Days   2537\n",
       "26    15  First 15 Days   6367\n",
       "27    15   Last 15 Days   2760\n",
       "28    16  First 15 Days   7272\n",
       "29    16   Last 15 Days   2886\n",
       "30    17  First 15 Days   8623\n",
       "31    17   Last 15 Days   2748\n",
       "32    18  First 15 Days   8654\n",
       "33    18   Last 15 Days   2525\n",
       "34    19  First 15 Days   8978\n",
       "35    19   Last 15 Days   1828\n",
       "36    20  First 15 Days   7459\n",
       "37    20   Last 15 Days   1485\n",
       "38    21  First 15 Days   4229\n",
       "39    21   Last 15 Days   1263\n",
       "40    22  First 15 Days     27\n",
       "41    22   Last 15 Days      6\n",
       "42    23  First 15 Days      6"
      ]
     },
     "execution_count": 28,
     "metadata": {},
     "output_type": "execute_result"
    }
   ],
   "source": [
    "fltdh = fltd.groupby([\"Hour\", \"Time Period\"])[\"Time Period\"].agg([\"count\"]).reset_index()\n",
    "fltdh.columns = [\"Hour\", \"Time Period\", \"Trips\"]\n",
    "fltdh"
   ]
  },
  {
   "cell_type": "code",
   "execution_count": 29,
   "id": "a99e485b",
   "metadata": {
    "execution": {
     "iopub.execute_input": "2022-04-13T08:54:45.506588Z",
     "iopub.status.busy": "2022-04-13T08:54:45.505921Z",
     "iopub.status.idle": "2022-04-13T08:54:45.983266Z",
     "shell.execute_reply": "2022-04-13T08:54:45.982065Z"
    },
    "papermill": {
     "duration": 0.531009,
     "end_time": "2022-04-13T08:54:45.983441",
     "exception": false,
     "start_time": "2022-04-13T08:54:45.452432",
     "status": "completed"
    },
    "tags": []
   },
   "outputs": [
    {
     "data": {
      "image/png": "[encoded data removed]",
      "text/plain": [
       "<Figure size 1296x504 with 1 Axes>"
      ]
     },
     "metadata": {},
     "output_type": "display_data"
    }
   ],
   "source": [
    "plt.figure(figsize = (18, 7))\n",
    "sns.lineplot(x = \"Hour\", y = \"Trips\", hue = \"Time Period\", data = fltdh, palette = \"spring\", linewidth = 3) \n",
    "plt.title(\"Number of trips by the hour of the day for first and last 15 days\", size = 20, color = \"red\", weight = \"bold\")\n",
    "plt.xlabel(\"Hours\", size = 20, color = \"red\", weight = \"bold\")\n",
    "plt.ylabel(\"Trips\", size = 20, color = \"red\", weight = \"bold\")\n",
    "plt.legend(prop={'size': 15})\n",
    "plt.xticks(size = 15)\n",
    "plt.yticks(size = 15)\n",
    "plt.show()"
   ]
  },
  {
   "cell_type": "code",
   "execution_count": 30,
   "id": "cb828fa4",
   "metadata": {
    "execution": {
     "iopub.execute_input": "2022-04-13T08:54:46.112035Z",
     "iopub.status.busy": "2022-04-13T08:54:46.111270Z",
     "iopub.status.idle": "2022-04-13T08:54:46.134769Z",
     "shell.execute_reply": "2022-04-13T08:54:46.135347Z"
    },
    "papermill": {
     "duration": 0.093284,
     "end_time": "2022-04-13T08:54:46.135553",
     "exception": false,
     "start_time": "2022-04-13T08:54:46.042269",
     "status": "completed"
    },
    "tags": []
   },
   "outputs": [
    {
     "data": {
      "text/html": [
       "<div>\n",
       "<style scoped>\n",
       "    .dataframe tbody tr th:only-of-type {\n",
       "        vertical-align: middle;\n",
       "    }\n",
       "\n",
       "    .dataframe tbody tr th {\n",
       "        vertical-align: top;\n",
       "    }\n",
       "\n",
       "    .dataframe thead th {\n",
       "        text-align: right;\n",
       "    }\n",
       "</style>\n",
       "<table border=\"1\" class=\"dataframe\">\n",
       "  <thead>\n",
       "    <tr style=\"text-align: right;\">\n",
       "      <th></th>\n",
       "      <th>Trip ID</th>\n",
       "      <th>Start Time</th>\n",
       "      <th>End Time</th>\n",
       "      <th>Trip Distance</th>\n",
       "      <th>Trip Duration</th>\n",
       "      <th>Vendor</th>\n",
       "      <th>Start Community Area Number</th>\n",
       "      <th>End Community Area Number</th>\n",
       "      <th>Start Community Area Name</th>\n",
       "      <th>End Community Area Name</th>\n",
       "      <th>Start Centroid Latitude</th>\n",
       "      <th>Start Centroid Longitude</th>\n",
       "      <th>Start Centroid Location</th>\n",
       "      <th>End Centroid Latitude</th>\n",
       "      <th>End Centroid Longitude</th>\n",
       "      <th>End Centroid Location</th>\n",
       "      <th>Start Date</th>\n",
       "      <th>Day of Week</th>\n",
       "      <th>Hour</th>\n",
       "    </tr>\n",
       "  </thead>\n",
       "  <tbody>\n",
       "    <tr>\n",
       "      <th>0</th>\n",
       "      <td>3eb9a2a3-3266-4559-b1ec-e83a6f7972ab</td>\n",
       "      <td>2020-08-12 05:00:00</td>\n",
       "      <td>08/12/2020 05:00:00 AM</td>\n",
       "      <td>1153</td>\n",
       "      <td>1027</td>\n",
       "      <td>spin</td>\n",
       "      <td>68.0</td>\n",
       "      <td>68.0</td>\n",
       "      <td>ENGLEWOOD</td>\n",
       "      <td>ENGLEWOOD</td>\n",
       "      <td>41.780068</td>\n",
       "      <td>-87.642266</td>\n",
       "      <td>POINT (-87.64226608 41.78006847)</td>\n",
       "      <td>41.780068</td>\n",
       "      <td>-87.642266</td>\n",
       "      <td>POINT (-87.64226608 41.78006847)</td>\n",
       "      <td>2020-08-12</td>\n",
       "      <td>Wednesday</td>\n",
       "      <td>5</td>\n",
       "    </tr>\n",
       "    <tr>\n",
       "      <th>2</th>\n",
       "      <td>9120cbf3-f749-49b6-b894-0e6e065cd731</td>\n",
       "      <td>2020-08-12 05:00:00</td>\n",
       "      <td>08/12/2020 05:00:00 AM</td>\n",
       "      <td>2883</td>\n",
       "      <td>724</td>\n",
       "      <td>spin</td>\n",
       "      <td>3.0</td>\n",
       "      <td>6.0</td>\n",
       "      <td>UPTOWN</td>\n",
       "      <td>LAKE VIEW</td>\n",
       "      <td>41.965435</td>\n",
       "      <td>-87.655145</td>\n",
       "      <td>POINT (-87.65514456 41.96543532)</td>\n",
       "      <td>41.943514</td>\n",
       "      <td>-87.657498</td>\n",
       "      <td>POINT (-87.65749768 41.9435138)</td>\n",
       "      <td>2020-08-12</td>\n",
       "      <td>Wednesday</td>\n",
       "      <td>5</td>\n",
       "    </tr>\n",
       "    <tr>\n",
       "      <th>4</th>\n",
       "      <td>0448afb5-ab64-4090-b528-e3050e7eb0f2</td>\n",
       "      <td>2020-08-12 07:00:00</td>\n",
       "      <td>08/12/2020 07:00:00 AM</td>\n",
       "      <td>1179</td>\n",
       "      <td>245</td>\n",
       "      <td>spin</td>\n",
       "      <td>6.0</td>\n",
       "      <td>6.0</td>\n",
       "      <td>LAKE VIEW</td>\n",
       "      <td>LAKE VIEW</td>\n",
       "      <td>41.943514</td>\n",
       "      <td>-87.657498</td>\n",
       "      <td>POINT (-87.65749768 41.9435138)</td>\n",
       "      <td>41.943514</td>\n",
       "      <td>-87.657498</td>\n",
       "      <td>POINT (-87.65749768 41.9435138)</td>\n",
       "      <td>2020-08-12</td>\n",
       "      <td>Wednesday</td>\n",
       "      <td>7</td>\n",
       "    </tr>\n",
       "    <tr>\n",
       "      <th>5</th>\n",
       "      <td>5b7425e1-0b21-46d5-9ac1-55f2f1777738</td>\n",
       "      <td>2020-08-12 07:00:00</td>\n",
       "      <td>08/12/2020 07:00:00 AM</td>\n",
       "      <td>3815</td>\n",
       "      <td>840</td>\n",
       "      <td>spin</td>\n",
       "      <td>6.0</td>\n",
       "      <td>3.0</td>\n",
       "      <td>LAKE VIEW</td>\n",
       "      <td>UPTOWN</td>\n",
       "      <td>41.943514</td>\n",
       "      <td>-87.657498</td>\n",
       "      <td>POINT (-87.65749768 41.9435138)</td>\n",
       "      <td>41.965435</td>\n",
       "      <td>-87.655145</td>\n",
       "      <td>POINT (-87.65514456 41.96543532)</td>\n",
       "      <td>2020-08-12</td>\n",
       "      <td>Wednesday</td>\n",
       "      <td>7</td>\n",
       "    </tr>\n",
       "    <tr>\n",
       "      <th>8</th>\n",
       "      <td>a5b7250d-51b9-4504-b849-bb7b04bd81d3</td>\n",
       "      <td>2020-08-12 07:00:00</td>\n",
       "      <td>08/12/2020 07:00:00 AM</td>\n",
       "      <td>4709</td>\n",
       "      <td>1421</td>\n",
       "      <td>spin</td>\n",
       "      <td>7.0</td>\n",
       "      <td>6.0</td>\n",
       "      <td>LINCOLN PARK</td>\n",
       "      <td>LAKE VIEW</td>\n",
       "      <td>41.921880</td>\n",
       "      <td>-87.645647</td>\n",
       "      <td>POINT (-87.64564651 41.92188043)</td>\n",
       "      <td>41.943514</td>\n",
       "      <td>-87.657498</td>\n",
       "      <td>POINT (-87.65749768 41.9435138)</td>\n",
       "      <td>2020-08-12</td>\n",
       "      <td>Wednesday</td>\n",
       "      <td>7</td>\n",
       "    </tr>\n",
       "  </tbody>\n",
       "</table>\n",
       "</div>"
      ],
      "text/plain": [
       "                                Trip ID          Start Time  \\\n",
       "0  3eb9a2a3-3266-4559-b1ec-e83a6f7972ab 2020-08-12 05:00:00   \n",
       "2  9120cbf3-f749-49b6-b894-0e6e065cd731 2020-08-12 05:00:00   \n",
       "4  0448afb5-ab64-4090-b528-e3050e7eb0f2 2020-08-12 07:00:00   \n",
       "5  5b7425e1-0b21-46d5-9ac1-55f2f1777738 2020-08-12 07:00:00   \n",
       "8  a5b7250d-51b9-4504-b849-bb7b04bd81d3 2020-08-12 07:00:00   \n",
       "\n",
       "                 End Time  Trip Distance  Trip Duration Vendor  \\\n",
       "0  08/12/2020 05:00:00 AM           1153           1027   spin   \n",
       "2  08/12/2020 05:00:00 AM           2883            724   spin   \n",
       "4  08/12/2020 07:00:00 AM           1179            245   spin   \n",
       "5  08/12/2020 07:00:00 AM           3815            840   spin   \n",
       "8  08/12/2020 07:00:00 AM           4709           1421   spin   \n",
       "\n",
       "   Start Community Area Number  End Community Area Number  \\\n",
       "0                         68.0                       68.0   \n",
       "2                          3.0                        6.0   \n",
       "4                          6.0                        6.0   \n",
       "5                          6.0                        3.0   \n",
       "8                          7.0                        6.0   \n",
       "\n",
       "  Start Community Area Name End Community Area Name  Start Centroid Latitude  \\\n",
       "0                 ENGLEWOOD               ENGLEWOOD                41.780068   \n",
       "2                    UPTOWN               LAKE VIEW                41.965435   \n",
       "4                 LAKE VIEW               LAKE VIEW                41.943514   \n",
       "5                 LAKE VIEW                  UPTOWN                41.943514   \n",
       "8              LINCOLN PARK               LAKE VIEW                41.921880   \n",
       "\n",
       "   Start Centroid Longitude           Start Centroid Location  \\\n",
       "0                -87.642266  POINT (-87.64226608 41.78006847)   \n",
       "2                -87.655145  POINT (-87.65514456 41.96543532)   \n",
       "4                -87.657498   POINT (-87.65749768 41.9435138)   \n",
       "5                -87.657498   POINT (-87.65749768 41.9435138)   \n",
       "8                -87.645647  POINT (-87.64564651 41.92188043)   \n",
       "\n",
       "   End Centroid Latitude  End Centroid Longitude  \\\n",
       "0              41.780068              -87.642266   \n",
       "2              41.943514              -87.657498   \n",
       "4              41.943514              -87.657498   \n",
       "5              41.965435              -87.655145   \n",
       "8              41.943514              -87.657498   \n",
       "\n",
       "              End Centroid Location Start Date Day of Week  Hour  \n",
       "0  POINT (-87.64226608 41.78006847) 2020-08-12   Wednesday     5  \n",
       "2   POINT (-87.65749768 41.9435138) 2020-08-12   Wednesday     5  \n",
       "4   POINT (-87.65749768 41.9435138) 2020-08-12   Wednesday     7  \n",
       "5  POINT (-87.65514456 41.96543532) 2020-08-12   Wednesday     7  \n",
       "8   POINT (-87.65749768 41.9435138) 2020-08-12   Wednesday     7  "
      ]
     },
     "execution_count": 30,
     "metadata": {},
     "output_type": "execute_result"
    }
   ],
   "source": [
    "df.head()"
   ]
  }
 ],
 "metadata": {
  "kernelspec": {
   "display_name": "Python 3",
   "language": "python",
   "name": "python3"
  },
  "language_info": {
   "codemirror_mode": {
    "name": "ipython",
    "version": 3
   },
   "file_extension": ".py",
   "mimetype": "text/x-python",
   "name": "python",
   "nbconvert_exporter": "python",
   "pygments_lexer": "ipython3",
   "version": "3.7.12"
  },
  "papermill": {
   "default_parameters": {},
   "duration": 30.330422,
   "end_time": "2022-04-13T08:54:47.309740",
   "environment_variables": {},
   "exception": null,
   "input_path": "__notebook__.ipynb",
   "output_path": "__notebook__.ipynb",
   "parameters": {},
   "start_time": "2022-04-13T08:54:16.979318",
   "version": "2.3.3"
  }
 },
 "nbformat": 4,
 "nbformat_minor": 5
}
